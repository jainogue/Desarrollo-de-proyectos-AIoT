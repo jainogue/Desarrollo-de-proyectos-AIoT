{
 "cells": [
  {
   "cell_type": "code",
   "execution_count": 2,
   "metadata": {},
   "outputs": [
    {
     "name": "stderr",
     "output_type": "stream",
     "text": [
      "c:\\Users\\Jaime\\anaconda3\\envs\\tf_env\\lib\\site-packages\\pydub\\utils.py:170: RuntimeWarning: Couldn't find ffmpeg or avconv - defaulting to ffmpeg, but may not work\n",
      "  warn(\"Couldn't find ffmpeg or avconv - defaulting to ffmpeg, but may not work\", RuntimeWarning)\n"
     ]
    }
   ],
   "source": [
    "import os\n",
    "from pydub import AudioSegment\n",
    "import random\n",
    "import csv"
   ]
  },
  {
   "cell_type": "markdown",
   "metadata": {},
   "source": [
    "## Script para generar un audio que intercala audios de llanto y ruido con una duración mínima y máxima."
   ]
  },
  {
   "cell_type": "code",
   "execution_count": null,
   "metadata": {},
   "outputs": [
    {
     "name": "stdout",
     "output_type": "stream",
     "text": [
      "Audio generado: audio_for_test/audio_test_5min.wav\n",
      "Anotaciones guardadas: audio_for_test/audio_test_5min.csv\n"
     ]
    }
   ],
   "source": [
    "# Duración objetivo en milisegundos\n",
    "TARGET_DURATION    = 10 * 60 * 1000  # 10 minutos\n",
    "\n",
    "# Parámetros para los segmentos de llanto (en ms)\n",
    "MIN_CRYING_DURATION = 5  * 1000\n",
    "MAX_CRYING_DURATION = 10 * 1000\n",
    "\n",
    "# Parámetros para los segmentos de ruido (en ms)\n",
    "MIN_NOISE_DURATION  = 5  * 1000\n",
    "MAX_NOISE_DURATION  = 10 * 1000\n",
    "\n",
    "# Función para recolectar archivos .wav de una carpeta\n",
    "def get_wav_files(folder):\n",
    "    return [\n",
    "        os.path.join(folder, f)\n",
    "        for f in os.listdir(folder)\n",
    "        if f.lower().endswith(\".wav\")\n",
    "    ]\n",
    "\n",
    "# Listado de WAV en cada carpeta\n",
    "crying_files = get_wav_files(\"../data_test/crying\")\n",
    "noise_files  = get_wav_files(\"../data_test/noise\")\n",
    "\n",
    "# Audio final y anotaciones\n",
    "final_audio = AudioSegment.empty()\n",
    "annotations  = []\n",
    "current_time = 0\n",
    "\n",
    "# Función para extraer llanto de duración aleatoria entre min y max\n",
    "def get_crying_segment(min_dur, max_dur):\n",
    "    desired = random.randint(min_dur, max_dur)\n",
    "    segment = AudioSegment.empty()\n",
    "    while len(segment) < desired:\n",
    "        src = random.choice(crying_files)\n",
    "        audio = AudioSegment.from_wav(src)\n",
    "        remain = desired - len(segment)\n",
    "        if len(audio) > remain:\n",
    "            start = random.randint(0, len(audio) - remain)\n",
    "            segment += audio[start:start+remain]\n",
    "        else:\n",
    "            segment += audio\n",
    "    return segment[:desired]\n",
    "\n",
    "# Función para extraer ruido de duración aleatoria entre min y max\n",
    "def get_noise_segment(min_dur, max_dur):\n",
    "    desired = random.randint(min_dur, max_dur)\n",
    "    segment = AudioSegment.empty()\n",
    "    while len(segment) < desired:\n",
    "        src = random.choice(noise_files)\n",
    "        audio = AudioSegment.from_wav(src)\n",
    "        remain = desired - len(segment)\n",
    "        if len(audio) > remain:\n",
    "            start = random.randint(0, len(audio) - remain)\n",
    "            segment += audio[start:start+remain]\n",
    "        else:\n",
    "            segment += audio\n",
    "    return segment[:desired]\n",
    "\n",
    "# Combinar segmentos hasta TARGET_DURATION\n",
    "while len(final_audio) < TARGET_DURATION:\n",
    "    tipo = random.choice([\"crying\", \"noise\"])\n",
    "    if tipo == \"crying\" and crying_files:\n",
    "        segment = get_crying_segment(MIN_CRYING_DURATION, MAX_CRYING_DURATION)\n",
    "        label   = \"Llanto\"\n",
    "    elif tipo == \"noise\" and noise_files:\n",
    "        segment = get_noise_segment(MIN_NOISE_DURATION, MAX_NOISE_DURATION)\n",
    "        label   = \"Ruido\"\n",
    "    else:\n",
    "        if not crying_files:\n",
    "            segment = get_noise_segment(MIN_NOISE_DURATION, MAX_NOISE_DURATION)\n",
    "            label = \"Ruido\"\n",
    "        else:\n",
    "            segment = get_crying_segment(MIN_CRYING_DURATION, MAX_CRYING_DURATION)\n",
    "            label = \"Llanto\"\n",
    "\n",
    "    seg_dur = len(segment)\n",
    "    annotations.append({\n",
    "        \"start_time_ms\": current_time,\n",
    "        \"end_time_ms\":   current_time + seg_dur,\n",
    "        \"label\":         label\n",
    "    })\n",
    "    final_audio += segment\n",
    "    current_time += seg_dur\n",
    "\n",
    "# Recortar a EXACTO TARGET_DURATION\n",
    "final_audio = final_audio[:TARGET_DURATION]\n",
    "\n",
    "# Exportar audio y CSV\n",
    "os.makedirs(\"audio_for_test\", exist_ok=True)\n",
    "minutes = TARGET_DURATION // 60000\n",
    "wav_path = f\"audio_for_test/audio_test_{minutes}min.wav\"\n",
    "csv_path = f\"audio_for_test/audio_test_{minutes}min.csv\"\n",
    "\n",
    "final_audio.export(wav_path, format=\"wav\")\n",
    "print(f\"Audio generado: {wav_path}\")\n",
    "\n",
    "with open(csv_path, \"w\", newline=\"\") as csvfile:\n",
    "    writer = csv.DictWriter(csvfile, fieldnames=[\"start_time_ms\",\"end_time_ms\",\"label\"])\n",
    "    writer.writeheader()\n",
    "    for row in annotations:\n",
    "        writer.writerow(row)\n",
    "print(f\"Anotaciones guardadas: {csv_path}\")"
   ]
  }
 ],
 "metadata": {
  "kernelspec": {
   "display_name": "tf_env",
   "language": "python",
   "name": "python3"
  },
  "language_info": {
   "codemirror_mode": {
    "name": "ipython",
    "version": 3
   },
   "file_extension": ".py",
   "mimetype": "text/x-python",
   "name": "python",
   "nbconvert_exporter": "python",
   "pygments_lexer": "ipython3",
   "version": "3.10.13"
  }
 },
 "nbformat": 4,
 "nbformat_minor": 2
}
